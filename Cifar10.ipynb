{
 "cells": [
  {
   "cell_type": "code",
   "execution_count": 9,
   "id": "5ce8a8c9-8f38-49d5-8132-5fc8004eb5b6",
   "metadata": {},
   "outputs": [],
   "source": [
    "import numpy as np\n",
    "import pandas as pd\n",
    "import os"
   ]
  },
  {
   "cell_type": "code",
   "execution_count": 58,
   "id": "d30bc66b-de6f-4899-ac18-ab8c9256ab7e",
   "metadata": {},
   "outputs": [],
   "source": [
    "def unpickle(file):\n",
    "    import pickle\n",
    "    with open(file, 'rb') as fo:\n",
    "        dict = pickle.load(fo, encoding='bytes')\n",
    "    return dict"
   ]
  },
  {
   "cell_type": "code",
   "execution_count": 59,
   "id": "42018621-837e-4869-ba22-e67b88be66d5",
   "metadata": {},
   "outputs": [],
   "source": [
    "path = \"C:/Users/himan/Downloads/cifar-10-python/cifar-10-batches-py\""
   ]
  },
  {
   "cell_type": "code",
   "execution_count": 60,
   "id": "8d525829-35da-4733-885f-2e94293d03bb",
   "metadata": {},
   "outputs": [
    {
     "data": {
      "text/plain": [
       "['batches.meta',\n",
       " 'data_batch_1',\n",
       " 'data_batch_2',\n",
       " 'data_batch_3',\n",
       " 'data_batch_4',\n",
       " 'data_batch_5',\n",
       " 'readme.html',\n",
       " 'test_batch']"
      ]
     },
     "execution_count": 60,
     "metadata": {},
     "output_type": "execute_result"
    }
   ],
   "source": [
    "os.listdir(path)"
   ]
  },
  {
   "cell_type": "code",
   "execution_count": 61,
   "id": "7dc0bc42-8d3f-49c8-af0d-660d8f96f9f6",
   "metadata": {},
   "outputs": [],
   "source": [
    "path1 = os.path.join(path,'data_batch_1')"
   ]
  },
  {
   "cell_type": "code",
   "execution_count": 62,
   "id": "57daf412-0ce4-4c7c-b084-835f5afaaf22",
   "metadata": {},
   "outputs": [],
   "source": [
    "data1 = unpickle(path1)"
   ]
  },
  {
   "cell_type": "code",
   "execution_count": 85,
   "id": "bf97d3c9-52f3-4234-a89d-8e3bd031cfbb",
   "metadata": {},
   "outputs": [],
   "source": [
    "##data2\n",
    "path1 = os.path.join(path,'data_batch_1')\n",
    "data1 = unpickle(path1)\n",
    "##data2\n",
    "path2 = os.path.join(path,'data_batch_2')\n",
    "data2 = unpickle(path2)\n",
    "##data3\n",
    "path3 = os.path.join(path,'data_batch_3')\n",
    "data3 = unpickle(path3)\n",
    "##data4\n",
    "path4 = os.path.join(path,'data_batch_4')\n",
    "data4 = unpickle(path4)\n",
    "##data5\n",
    "path5 = os.path.join(path,'data_batch_5')\n",
    "data5 = unpickle(path5)"
   ]
  },
  {
   "cell_type": "code",
   "execution_count": 89,
   "id": "2feb2a80-3aff-4502-87f5-ee0de939ee74",
   "metadata": {},
   "outputs": [
    {
     "data": {
      "text/plain": [
       "dict_keys([b'batch_label', b'labels', b'data', b'filenames'])"
      ]
     },
     "execution_count": 89,
     "metadata": {},
     "output_type": "execute_result"
    }
   ],
   "source": [
    "data5.keys()"
   ]
  },
  {
   "cell_type": "code",
   "execution_count": 55,
   "id": "58215285-f49f-48f6-ae43-c38feb60f24a",
   "metadata": {},
   "outputs": [
    {
     "data": {
      "text/plain": [
       "(3072,)"
      ]
     },
     "execution_count": 55,
     "metadata": {},
     "output_type": "execute_result"
    }
   ],
   "source": [
    "data1[b'data'][0].shape"
   ]
  },
  {
   "cell_type": "code",
   "execution_count": 52,
   "id": "d9e5fda3-a701-4333-b4e4-ed9dd6c4cb12",
   "metadata": {},
   "outputs": [],
   "source": [
    "temp = data1[b'data']"
   ]
  },
  {
   "cell_type": "code",
   "execution_count": 77,
   "id": "437b3abc-de17-41df-bf4f-e985a90fa4d1",
   "metadata": {},
   "outputs": [],
   "source": [
    "temp =[]\n",
    "temp.append(data1[b'data'])\n"
   ]
  },
  {
   "cell_type": "code",
   "execution_count": 63,
   "id": "90eef85b-f174-4bd2-acf9-29567300efed",
   "metadata": {},
   "outputs": [],
   "source": [
    "df = pd.DataFrame(data1[b'data'])"
   ]
  },
  {
   "cell_type": "code",
   "execution_count": 64,
   "id": "618c1993-4189-4000-9d27-87008a3646b4",
   "metadata": {},
   "outputs": [
    {
     "data": {
      "text/html": [
       "<div>\n",
       "<style scoped>\n",
       "    .dataframe tbody tr th:only-of-type {\n",
       "        vertical-align: middle;\n",
       "    }\n",
       "\n",
       "    .dataframe tbody tr th {\n",
       "        vertical-align: top;\n",
       "    }\n",
       "\n",
       "    .dataframe thead th {\n",
       "        text-align: right;\n",
       "    }\n",
       "</style>\n",
       "<table border=\"1\" class=\"dataframe\">\n",
       "  <thead>\n",
       "    <tr style=\"text-align: right;\">\n",
       "      <th></th>\n",
       "      <th>0</th>\n",
       "      <th>1</th>\n",
       "      <th>2</th>\n",
       "      <th>3</th>\n",
       "      <th>4</th>\n",
       "      <th>5</th>\n",
       "      <th>6</th>\n",
       "      <th>7</th>\n",
       "      <th>8</th>\n",
       "      <th>9</th>\n",
       "      <th>...</th>\n",
       "      <th>3062</th>\n",
       "      <th>3063</th>\n",
       "      <th>3064</th>\n",
       "      <th>3065</th>\n",
       "      <th>3066</th>\n",
       "      <th>3067</th>\n",
       "      <th>3068</th>\n",
       "      <th>3069</th>\n",
       "      <th>3070</th>\n",
       "      <th>3071</th>\n",
       "    </tr>\n",
       "  </thead>\n",
       "  <tbody>\n",
       "    <tr>\n",
       "      <th>0</th>\n",
       "      <td>59</td>\n",
       "      <td>43</td>\n",
       "      <td>50</td>\n",
       "      <td>68</td>\n",
       "      <td>98</td>\n",
       "      <td>119</td>\n",
       "      <td>139</td>\n",
       "      <td>145</td>\n",
       "      <td>149</td>\n",
       "      <td>149</td>\n",
       "      <td>...</td>\n",
       "      <td>59</td>\n",
       "      <td>58</td>\n",
       "      <td>65</td>\n",
       "      <td>59</td>\n",
       "      <td>46</td>\n",
       "      <td>57</td>\n",
       "      <td>104</td>\n",
       "      <td>140</td>\n",
       "      <td>84</td>\n",
       "      <td>72</td>\n",
       "    </tr>\n",
       "    <tr>\n",
       "      <th>1</th>\n",
       "      <td>154</td>\n",
       "      <td>126</td>\n",
       "      <td>105</td>\n",
       "      <td>102</td>\n",
       "      <td>125</td>\n",
       "      <td>155</td>\n",
       "      <td>172</td>\n",
       "      <td>180</td>\n",
       "      <td>142</td>\n",
       "      <td>111</td>\n",
       "      <td>...</td>\n",
       "      <td>22</td>\n",
       "      <td>42</td>\n",
       "      <td>67</td>\n",
       "      <td>101</td>\n",
       "      <td>122</td>\n",
       "      <td>133</td>\n",
       "      <td>136</td>\n",
       "      <td>139</td>\n",
       "      <td>142</td>\n",
       "      <td>144</td>\n",
       "    </tr>\n",
       "    <tr>\n",
       "      <th>2</th>\n",
       "      <td>255</td>\n",
       "      <td>253</td>\n",
       "      <td>253</td>\n",
       "      <td>253</td>\n",
       "      <td>253</td>\n",
       "      <td>253</td>\n",
       "      <td>253</td>\n",
       "      <td>253</td>\n",
       "      <td>253</td>\n",
       "      <td>253</td>\n",
       "      <td>...</td>\n",
       "      <td>78</td>\n",
       "      <td>83</td>\n",
       "      <td>80</td>\n",
       "      <td>69</td>\n",
       "      <td>66</td>\n",
       "      <td>72</td>\n",
       "      <td>79</td>\n",
       "      <td>83</td>\n",
       "      <td>83</td>\n",
       "      <td>84</td>\n",
       "    </tr>\n",
       "    <tr>\n",
       "      <th>3</th>\n",
       "      <td>28</td>\n",
       "      <td>37</td>\n",
       "      <td>38</td>\n",
       "      <td>42</td>\n",
       "      <td>44</td>\n",
       "      <td>40</td>\n",
       "      <td>40</td>\n",
       "      <td>24</td>\n",
       "      <td>32</td>\n",
       "      <td>43</td>\n",
       "      <td>...</td>\n",
       "      <td>53</td>\n",
       "      <td>39</td>\n",
       "      <td>59</td>\n",
       "      <td>42</td>\n",
       "      <td>44</td>\n",
       "      <td>48</td>\n",
       "      <td>38</td>\n",
       "      <td>28</td>\n",
       "      <td>37</td>\n",
       "      <td>46</td>\n",
       "    </tr>\n",
       "    <tr>\n",
       "      <th>4</th>\n",
       "      <td>170</td>\n",
       "      <td>168</td>\n",
       "      <td>177</td>\n",
       "      <td>183</td>\n",
       "      <td>181</td>\n",
       "      <td>177</td>\n",
       "      <td>181</td>\n",
       "      <td>184</td>\n",
       "      <td>189</td>\n",
       "      <td>189</td>\n",
       "      <td>...</td>\n",
       "      <td>92</td>\n",
       "      <td>88</td>\n",
       "      <td>85</td>\n",
       "      <td>82</td>\n",
       "      <td>83</td>\n",
       "      <td>79</td>\n",
       "      <td>78</td>\n",
       "      <td>82</td>\n",
       "      <td>78</td>\n",
       "      <td>80</td>\n",
       "    </tr>\n",
       "    <tr>\n",
       "      <th>...</th>\n",
       "      <td>...</td>\n",
       "      <td>...</td>\n",
       "      <td>...</td>\n",
       "      <td>...</td>\n",
       "      <td>...</td>\n",
       "      <td>...</td>\n",
       "      <td>...</td>\n",
       "      <td>...</td>\n",
       "      <td>...</td>\n",
       "      <td>...</td>\n",
       "      <td>...</td>\n",
       "      <td>...</td>\n",
       "      <td>...</td>\n",
       "      <td>...</td>\n",
       "      <td>...</td>\n",
       "      <td>...</td>\n",
       "      <td>...</td>\n",
       "      <td>...</td>\n",
       "      <td>...</td>\n",
       "      <td>...</td>\n",
       "      <td>...</td>\n",
       "    </tr>\n",
       "    <tr>\n",
       "      <th>9995</th>\n",
       "      <td>18</td>\n",
       "      <td>18</td>\n",
       "      <td>21</td>\n",
       "      <td>23</td>\n",
       "      <td>24</td>\n",
       "      <td>23</td>\n",
       "      <td>24</td>\n",
       "      <td>25</td>\n",
       "      <td>22</td>\n",
       "      <td>19</td>\n",
       "      <td>...</td>\n",
       "      <td>20</td>\n",
       "      <td>24</td>\n",
       "      <td>33</td>\n",
       "      <td>41</td>\n",
       "      <td>45</td>\n",
       "      <td>39</td>\n",
       "      <td>39</td>\n",
       "      <td>39</td>\n",
       "      <td>34</td>\n",
       "      <td>37</td>\n",
       "    </tr>\n",
       "    <tr>\n",
       "      <th>9996</th>\n",
       "      <td>235</td>\n",
       "      <td>240</td>\n",
       "      <td>249</td>\n",
       "      <td>253</td>\n",
       "      <td>254</td>\n",
       "      <td>253</td>\n",
       "      <td>254</td>\n",
       "      <td>254</td>\n",
       "      <td>179</td>\n",
       "      <td>108</td>\n",
       "      <td>...</td>\n",
       "      <td>75</td>\n",
       "      <td>89</td>\n",
       "      <td>113</td>\n",
       "      <td>139</td>\n",
       "      <td>163</td>\n",
       "      <td>174</td>\n",
       "      <td>179</td>\n",
       "      <td>182</td>\n",
       "      <td>181</td>\n",
       "      <td>181</td>\n",
       "    </tr>\n",
       "    <tr>\n",
       "      <th>9997</th>\n",
       "      <td>71</td>\n",
       "      <td>60</td>\n",
       "      <td>74</td>\n",
       "      <td>73</td>\n",
       "      <td>87</td>\n",
       "      <td>125</td>\n",
       "      <td>179</td>\n",
       "      <td>231</td>\n",
       "      <td>250</td>\n",
       "      <td>252</td>\n",
       "      <td>...</td>\n",
       "      <td>71</td>\n",
       "      <td>70</td>\n",
       "      <td>67</td>\n",
       "      <td>66</td>\n",
       "      <td>70</td>\n",
       "      <td>81</td>\n",
       "      <td>78</td>\n",
       "      <td>68</td>\n",
       "      <td>69</td>\n",
       "      <td>68</td>\n",
       "    </tr>\n",
       "    <tr>\n",
       "      <th>9998</th>\n",
       "      <td>250</td>\n",
       "      <td>254</td>\n",
       "      <td>211</td>\n",
       "      <td>64</td>\n",
       "      <td>61</td>\n",
       "      <td>60</td>\n",
       "      <td>55</td>\n",
       "      <td>54</td>\n",
       "      <td>55</td>\n",
       "      <td>59</td>\n",
       "      <td>...</td>\n",
       "      <td>134</td>\n",
       "      <td>134</td>\n",
       "      <td>132</td>\n",
       "      <td>130</td>\n",
       "      <td>127</td>\n",
       "      <td>132</td>\n",
       "      <td>133</td>\n",
       "      <td>215</td>\n",
       "      <td>255</td>\n",
       "      <td>254</td>\n",
       "    </tr>\n",
       "    <tr>\n",
       "      <th>9999</th>\n",
       "      <td>62</td>\n",
       "      <td>61</td>\n",
       "      <td>60</td>\n",
       "      <td>59</td>\n",
       "      <td>94</td>\n",
       "      <td>123</td>\n",
       "      <td>140</td>\n",
       "      <td>105</td>\n",
       "      <td>58</td>\n",
       "      <td>57</td>\n",
       "      <td>...</td>\n",
       "      <td>131</td>\n",
       "      <td>131</td>\n",
       "      <td>131</td>\n",
       "      <td>131</td>\n",
       "      <td>131</td>\n",
       "      <td>130</td>\n",
       "      <td>130</td>\n",
       "      <td>130</td>\n",
       "      <td>130</td>\n",
       "      <td>131</td>\n",
       "    </tr>\n",
       "  </tbody>\n",
       "</table>\n",
       "<p>10000 rows × 3072 columns</p>\n",
       "</div>"
      ],
      "text/plain": [
       "      0     1     2     3     4     5     6     7     8     9     ...  3062  \\\n",
       "0       59    43    50    68    98   119   139   145   149   149  ...    59   \n",
       "1      154   126   105   102   125   155   172   180   142   111  ...    22   \n",
       "2      255   253   253   253   253   253   253   253   253   253  ...    78   \n",
       "3       28    37    38    42    44    40    40    24    32    43  ...    53   \n",
       "4      170   168   177   183   181   177   181   184   189   189  ...    92   \n",
       "...    ...   ...   ...   ...   ...   ...   ...   ...   ...   ...  ...   ...   \n",
       "9995    18    18    21    23    24    23    24    25    22    19  ...    20   \n",
       "9996   235   240   249   253   254   253   254   254   179   108  ...    75   \n",
       "9997    71    60    74    73    87   125   179   231   250   252  ...    71   \n",
       "9998   250   254   211    64    61    60    55    54    55    59  ...   134   \n",
       "9999    62    61    60    59    94   123   140   105    58    57  ...   131   \n",
       "\n",
       "      3063  3064  3065  3066  3067  3068  3069  3070  3071  \n",
       "0       58    65    59    46    57   104   140    84    72  \n",
       "1       42    67   101   122   133   136   139   142   144  \n",
       "2       83    80    69    66    72    79    83    83    84  \n",
       "3       39    59    42    44    48    38    28    37    46  \n",
       "4       88    85    82    83    79    78    82    78    80  \n",
       "...    ...   ...   ...   ...   ...   ...   ...   ...   ...  \n",
       "9995    24    33    41    45    39    39    39    34    37  \n",
       "9996    89   113   139   163   174   179   182   181   181  \n",
       "9997    70    67    66    70    81    78    68    69    68  \n",
       "9998   134   132   130   127   132   133   215   255   254  \n",
       "9999   131   131   131   131   130   130   130   130   131  \n",
       "\n",
       "[10000 rows x 3072 columns]"
      ]
     },
     "execution_count": 64,
     "metadata": {},
     "output_type": "execute_result"
    }
   ],
   "source": [
    "df"
   ]
  },
  {
   "cell_type": "code",
   "execution_count": 97,
   "id": "19ecb744-b359-409c-b90d-421a8879725b",
   "metadata": {},
   "outputs": [],
   "source": [
    "temp = np.append(data1[b'data'],data2[b'data'],axis=0)"
   ]
  },
  {
   "cell_type": "code",
   "execution_count": 95,
   "id": "ffb28d91-19fc-41a5-b981-421529e607aa",
   "metadata": {},
   "outputs": [
    {
     "data": {
      "text/plain": [
       "(20000, 3072)"
      ]
     },
     "execution_count": 95,
     "metadata": {},
     "output_type": "execute_result"
    }
   ],
   "source": [
    "temp.shape"
   ]
  },
  {
   "cell_type": "code",
   "execution_count": 103,
   "id": "210d2f21-bd69-4f48-9cb4-eaeba3322459",
   "metadata": {},
   "outputs": [],
   "source": [
    "X_train = np.append(data1[b'data'],data2[b'data'],axis=0)\n",
    "X_train= np.append(X_train,data3[b'data'],axis=0)\n",
    "X_train= np.append(X_train,data4[b'data'],axis=0)\n",
    "X_train= np.append(X_train,data5[b'data'],axis=0)"
   ]
  },
  {
   "cell_type": "code",
   "execution_count": 104,
   "id": "4a3dfc33-498f-452b-a12f-e98ab5efb473",
   "metadata": {},
   "outputs": [
    {
     "data": {
      "text/plain": [
       "(50000, 3072)"
      ]
     },
     "execution_count": 104,
     "metadata": {},
     "output_type": "execute_result"
    }
   ],
   "source": [
    "X_train.shape"
   ]
  },
  {
   "cell_type": "code",
   "execution_count": 112,
   "id": "983d969f-4d3e-410f-8feb-2980403a97f7",
   "metadata": {},
   "outputs": [
    {
     "data": {
      "text/plain": [
       "array([[178, 178, 178, ...,  80,  80,  77],\n",
       "       [ 29,  22,  25, ...,  29,  31,  30],\n",
       "       [ 36,  33,  21, ..., 173, 170, 170],\n",
       "       ...,\n",
       "       [167, 164, 151, ..., 132, 142, 130],\n",
       "       [ 45,  46,  46, ...,  30,  34,  24],\n",
       "       [235, 239, 239, ..., 182, 175, 174]], dtype=uint8)"
      ]
     },
     "execution_count": 112,
     "metadata": {},
     "output_type": "execute_result"
    }
   ],
   "source": [
    "X_train[30000:40000]"
   ]
  },
  {
   "cell_type": "code",
   "execution_count": 111,
   "id": "156cf7c7-9ec9-4769-8113-fe719ed06a0f",
   "metadata": {},
   "outputs": [
    {
     "data": {
      "text/plain": [
       "array([[178, 178, 178, ...,  80,  80,  77],\n",
       "       [ 29,  22,  25, ...,  29,  31,  30],\n",
       "       [ 36,  33,  21, ..., 173, 170, 170],\n",
       "       ...,\n",
       "       [167, 164, 151, ..., 132, 142, 130],\n",
       "       [ 45,  46,  46, ...,  30,  34,  24],\n",
       "       [235, 239, 239, ..., 182, 175, 174]], dtype=uint8)"
      ]
     },
     "execution_count": 111,
     "metadata": {},
     "output_type": "execute_result"
    }
   ],
   "source": [
    "data4[b'data']"
   ]
  },
  {
   "cell_type": "code",
   "execution_count": null,
   "id": "9a870aff-ba1b-42cc-a3b7-3315a6705d8d",
   "metadata": {},
   "outputs": [],
   "source": []
  },
  {
   "cell_type": "code",
   "execution_count": 115,
   "id": "a6f112fb-4b79-408c-ab5c-c258bb13f42f",
   "metadata": {},
   "outputs": [],
   "source": [
    "##target data\n",
    "Y_train = np.append(data1[b'labels'],data2[b'labels'],axis=0)\n",
    "Y_train = np.append(Y_train,data3[b'labels'],axis=0)\n",
    "Y_train = np.append(Y_train,data4[b'labels'],axis=0)\n",
    "Y_train = np.append(Y_train,data5[b'labels'],axis=0)"
   ]
  },
  {
   "cell_type": "code",
   "execution_count": 116,
   "id": "633d615b-9d99-4c76-aae0-ee8dc52af17d",
   "metadata": {},
   "outputs": [
    {
     "data": {
      "text/plain": [
       "(50000,)"
      ]
     },
     "execution_count": 116,
     "metadata": {},
     "output_type": "execute_result"
    }
   ],
   "source": [
    "Y_train.shape"
   ]
  },
  {
   "cell_type": "code",
   "execution_count": null,
   "id": "00665c63-d4be-452a-8346-34691d089f86",
   "metadata": {},
   "outputs": [],
   "source": []
  }
 ],
 "metadata": {
  "kernelspec": {
   "display_name": "Python 3 (ipykernel)",
   "language": "python",
   "name": "python3"
  },
  "language_info": {
   "codemirror_mode": {
    "name": "ipython",
    "version": 3
   },
   "file_extension": ".py",
   "mimetype": "text/x-python",
   "name": "python",
   "nbconvert_exporter": "python",
   "pygments_lexer": "ipython3",
   "version": "3.12.1"
  }
 },
 "nbformat": 4,
 "nbformat_minor": 5
}
